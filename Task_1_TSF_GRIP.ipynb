{
  "nbformat": 4,
  "nbformat_minor": 5,
  "metadata": {
    "kernelspec": {
      "display_name": "Python 3 (ipykernel)",
      "language": "python",
      "name": "python3"
    },
    "language_info": {
      "codemirror_mode": {
        "name": "ipython",
        "version": 3
      },
      "file_extension": ".py",
      "mimetype": "text/x-python",
      "name": "python",
      "nbconvert_exporter": "python",
      "pygments_lexer": "ipython3",
      "version": "3.9.6"
    },
    "colab": {
      "name": "Copy of Task_1_TSF_GRIP.ipynb",
      "provenance": [],
      "collapsed_sections": []
    }
  },
  "cells": [
    {
      "cell_type": "markdown",
      "metadata": {
        "id": "c231297f"
      },
      "source": [
        "# THE SPARKS FOUNDATION - GRIP\n",
        "\n",
        "## DATA SCIENCE AND BUSINESS ANALYTICS INTERNSHIP\n",
        "## Task -1: Predict the percentage of student based on the no of study hours\n",
        "## Prediction using supervised ML\n",
        "\n",
        "# Author - Darukumalli Sai Tharun Reddy\n",
        "\n",
        "\n",
        "\n"
      ],
      "id": "c231297f"
    },
    {
      "cell_type": "code",
      "metadata": {
        "id": "376eda00"
      },
      "source": [
        "# importing the required libraries\n",
        "\n",
        "import pandas as pd\n",
        "import numpy as np\n",
        "import matplotlib.pyplot as plt\n",
        "import seaborn as sns\n",
        "\n",
        "from sklearn.model_selection import train_test_split\n",
        "from sklearn.linear_model import LinearRegression\n",
        "from sklearn.metrics import mean_absolute_error\n",
        "from sklearn.metrics import r2_score\n"
      ],
      "id": "376eda00",
      "execution_count": null,
      "outputs": []
    },
    {
      "cell_type": "markdown",
      "metadata": {
        "id": "84391043"
      },
      "source": [
        "### Reading the Data "
      ],
      "id": "84391043"
    },
    {
      "cell_type": "code",
      "metadata": {
        "id": "153e1dd3",
        "colab": {
          "base_uri": "https://localhost:8080/",
          "height": 206
        },
        "outputId": "d828374b-ee18-4d73-c3d1-0a6d4fa1eb9b"
      },
      "source": [
        "student_data = pd.read_csv('http://bit.ly/w-data')\n",
        "student_data.head()"
      ],
      "id": "153e1dd3",
      "execution_count": null,
      "outputs": [
        {
          "output_type": "execute_result",
          "data": {
            "text/html": [
              "<div>\n",
              "<style scoped>\n",
              "    .dataframe tbody tr th:only-of-type {\n",
              "        vertical-align: middle;\n",
              "    }\n",
              "\n",
              "    .dataframe tbody tr th {\n",
              "        vertical-align: top;\n",
              "    }\n",
              "\n",
              "    .dataframe thead th {\n",
              "        text-align: right;\n",
              "    }\n",
              "</style>\n",
              "<table border=\"1\" class=\"dataframe\">\n",
              "  <thead>\n",
              "    <tr style=\"text-align: right;\">\n",
              "      <th></th>\n",
              "      <th>Hours</th>\n",
              "      <th>Scores</th>\n",
              "    </tr>\n",
              "  </thead>\n",
              "  <tbody>\n",
              "    <tr>\n",
              "      <th>0</th>\n",
              "      <td>2.5</td>\n",
              "      <td>21</td>\n",
              "    </tr>\n",
              "    <tr>\n",
              "      <th>1</th>\n",
              "      <td>5.1</td>\n",
              "      <td>47</td>\n",
              "    </tr>\n",
              "    <tr>\n",
              "      <th>2</th>\n",
              "      <td>3.2</td>\n",
              "      <td>27</td>\n",
              "    </tr>\n",
              "    <tr>\n",
              "      <th>3</th>\n",
              "      <td>8.5</td>\n",
              "      <td>75</td>\n",
              "    </tr>\n",
              "    <tr>\n",
              "      <th>4</th>\n",
              "      <td>3.5</td>\n",
              "      <td>30</td>\n",
              "    </tr>\n",
              "  </tbody>\n",
              "</table>\n",
              "</div>"
            ],
            "text/plain": [
              "   Hours  Scores\n",
              "0    2.5      21\n",
              "1    5.1      47\n",
              "2    3.2      27\n",
              "3    8.5      75\n",
              "4    3.5      30"
            ]
          },
          "metadata": {},
          "execution_count": 2
        }
      ]
    },
    {
      "cell_type": "code",
      "metadata": {
        "id": "0516411a",
        "colab": {
          "base_uri": "https://localhost:8080/",
          "height": 206
        },
        "outputId": "00b78854-d337-4f5f-a166-55b5369bf629"
      },
      "source": [
        "student_data.tail()"
      ],
      "id": "0516411a",
      "execution_count": null,
      "outputs": [
        {
          "output_type": "execute_result",
          "data": {
            "text/html": [
              "<div>\n",
              "<style scoped>\n",
              "    .dataframe tbody tr th:only-of-type {\n",
              "        vertical-align: middle;\n",
              "    }\n",
              "\n",
              "    .dataframe tbody tr th {\n",
              "        vertical-align: top;\n",
              "    }\n",
              "\n",
              "    .dataframe thead th {\n",
              "        text-align: right;\n",
              "    }\n",
              "</style>\n",
              "<table border=\"1\" class=\"dataframe\">\n",
              "  <thead>\n",
              "    <tr style=\"text-align: right;\">\n",
              "      <th></th>\n",
              "      <th>Hours</th>\n",
              "      <th>Scores</th>\n",
              "    </tr>\n",
              "  </thead>\n",
              "  <tbody>\n",
              "    <tr>\n",
              "      <th>20</th>\n",
              "      <td>2.7</td>\n",
              "      <td>30</td>\n",
              "    </tr>\n",
              "    <tr>\n",
              "      <th>21</th>\n",
              "      <td>4.8</td>\n",
              "      <td>54</td>\n",
              "    </tr>\n",
              "    <tr>\n",
              "      <th>22</th>\n",
              "      <td>3.8</td>\n",
              "      <td>35</td>\n",
              "    </tr>\n",
              "    <tr>\n",
              "      <th>23</th>\n",
              "      <td>6.9</td>\n",
              "      <td>76</td>\n",
              "    </tr>\n",
              "    <tr>\n",
              "      <th>24</th>\n",
              "      <td>7.8</td>\n",
              "      <td>86</td>\n",
              "    </tr>\n",
              "  </tbody>\n",
              "</table>\n",
              "</div>"
            ],
            "text/plain": [
              "    Hours  Scores\n",
              "20    2.7      30\n",
              "21    4.8      54\n",
              "22    3.8      35\n",
              "23    6.9      76\n",
              "24    7.8      86"
            ]
          },
          "metadata": {},
          "execution_count": 3
        }
      ]
    },
    {
      "cell_type": "code",
      "metadata": {
        "id": "d2dc55d7",
        "colab": {
          "base_uri": "https://localhost:8080/",
          "height": 300
        },
        "outputId": "467d141e-ed70-40da-e9b7-68f9949311a7"
      },
      "source": [
        "student_data.describe()"
      ],
      "id": "d2dc55d7",
      "execution_count": null,
      "outputs": [
        {
          "output_type": "execute_result",
          "data": {
            "text/html": [
              "<div>\n",
              "<style scoped>\n",
              "    .dataframe tbody tr th:only-of-type {\n",
              "        vertical-align: middle;\n",
              "    }\n",
              "\n",
              "    .dataframe tbody tr th {\n",
              "        vertical-align: top;\n",
              "    }\n",
              "\n",
              "    .dataframe thead th {\n",
              "        text-align: right;\n",
              "    }\n",
              "</style>\n",
              "<table border=\"1\" class=\"dataframe\">\n",
              "  <thead>\n",
              "    <tr style=\"text-align: right;\">\n",
              "      <th></th>\n",
              "      <th>Hours</th>\n",
              "      <th>Scores</th>\n",
              "    </tr>\n",
              "  </thead>\n",
              "  <tbody>\n",
              "    <tr>\n",
              "      <th>count</th>\n",
              "      <td>25.000000</td>\n",
              "      <td>25.000000</td>\n",
              "    </tr>\n",
              "    <tr>\n",
              "      <th>mean</th>\n",
              "      <td>5.012000</td>\n",
              "      <td>51.480000</td>\n",
              "    </tr>\n",
              "    <tr>\n",
              "      <th>std</th>\n",
              "      <td>2.525094</td>\n",
              "      <td>25.286887</td>\n",
              "    </tr>\n",
              "    <tr>\n",
              "      <th>min</th>\n",
              "      <td>1.100000</td>\n",
              "      <td>17.000000</td>\n",
              "    </tr>\n",
              "    <tr>\n",
              "      <th>25%</th>\n",
              "      <td>2.700000</td>\n",
              "      <td>30.000000</td>\n",
              "    </tr>\n",
              "    <tr>\n",
              "      <th>50%</th>\n",
              "      <td>4.800000</td>\n",
              "      <td>47.000000</td>\n",
              "    </tr>\n",
              "    <tr>\n",
              "      <th>75%</th>\n",
              "      <td>7.400000</td>\n",
              "      <td>75.000000</td>\n",
              "    </tr>\n",
              "    <tr>\n",
              "      <th>max</th>\n",
              "      <td>9.200000</td>\n",
              "      <td>95.000000</td>\n",
              "    </tr>\n",
              "  </tbody>\n",
              "</table>\n",
              "</div>"
            ],
            "text/plain": [
              "           Hours     Scores\n",
              "count  25.000000  25.000000\n",
              "mean    5.012000  51.480000\n",
              "std     2.525094  25.286887\n",
              "min     1.100000  17.000000\n",
              "25%     2.700000  30.000000\n",
              "50%     4.800000  47.000000\n",
              "75%     7.400000  75.000000\n",
              "max     9.200000  95.000000"
            ]
          },
          "metadata": {},
          "execution_count": 4
        }
      ]
    },
    {
      "cell_type": "markdown",
      "metadata": {
        "id": "a040f2a2"
      },
      "source": [
        "### check if there are any null values in the Data"
      ],
      "id": "a040f2a2"
    },
    {
      "cell_type": "code",
      "metadata": {
        "id": "dfca3c07",
        "colab": {
          "base_uri": "https://localhost:8080/"
        },
        "outputId": "ec38d02c-c8c0-4307-fb69-f33c501831df"
      },
      "source": [
        "student_data.isnull == True"
      ],
      "id": "dfca3c07",
      "execution_count": null,
      "outputs": [
        {
          "output_type": "execute_result",
          "data": {
            "text/plain": [
              "False"
            ]
          },
          "metadata": {},
          "execution_count": 5
        }
      ]
    },
    {
      "cell_type": "markdown",
      "metadata": {
        "id": "2cbf15e0"
      },
      "source": [
        "# Data Visualization"
      ],
      "id": "2cbf15e0"
    },
    {
      "cell_type": "code",
      "metadata": {
        "id": "a4a4a6aa",
        "colab": {
          "base_uri": "https://localhost:8080/",
          "height": 295
        },
        "outputId": "23fbc378-6f2d-4dc2-ea2d-2c1572533850"
      },
      "source": [
        "student_data.plot(kind = 'line')\n",
        "plt.title('Hours vs Percentage')\n",
        "plt.xlabel('Hours Studied')\n",
        "plt.ylabel('Percentage Score')\n",
        "plt.show()"
      ],
      "id": "a4a4a6aa",
      "execution_count": null,
      "outputs": [
        {
          "output_type": "display_data",
          "data": {
            "image/png": "[encoded data removed]",
            "text/plain": [
              "<Figure size 432x288 with 1 Axes>"
            ]
          },
          "metadata": {
            "needs_background": "light"
          }
        }
      ]
    },
    {
      "cell_type": "code",
      "metadata": {
        "id": "caed3136",
        "colab": {
          "base_uri": "https://localhost:8080/",
          "height": 884
        },
        "outputId": "fe2019e5-7628-4240-af49-c117e8cf04d8"
      },
      "source": [
        "xmin_hours = min(student_data.Hours)\n",
        "xmax_hours = max(student_data.Hours)\n",
        "student_data.plot(kind='area',alpha=0.7,stacked=True,figsize=(20,15),xlim = (xmin_hours,xmax_hours))\n",
        "plt.title('Hours vs Percentage')\n",
        "plt.xlabel('Hours')\n",
        "plt.ylabel('Percentage')\n",
        "plt.show()"
      ],
      "id": "caed3136",
      "execution_count": null,
      "outputs": [
        {
          "output_type": "display_data",
          "data": {
            "image/png": "[encoded data removed]",
            "text/plain": [
              "<Figure size 1440x1080 with 1 Axes>"
            ]
          },
          "metadata": {
            "needs_background": "light"
          }
        }
      ]
    },
    {
      "cell_type": "code",
      "metadata": {
        "id": "4325fb7e",
        "colab": {
          "base_uri": "https://localhost:8080/",
          "height": 295
        },
        "outputId": "4cc194d4-98fd-44a1-9eb4-dc6beb78dae1"
      },
      "source": [
        "student_data.plot(kind='scatter',x='Hours',y='Scores',color='g')\n",
        "plt.title('Hours vs Percentage')\n",
        "plt.xlabel('Hours studied')\n",
        "plt.ylabel('Percentage')\n",
        "plt.show()"
      ],
      "id": "4325fb7e",
      "execution_count": null,
      "outputs": [
        {
          "output_type": "display_data",
          "data": {
            "image/png": "[encoded data removed]",
            "text/plain": [
              "<Figure size 432x288 with 1 Axes>"
            ]
          },
          "metadata": {
            "needs_background": "light"
          }
        }
      ]
    },
    {
      "cell_type": "markdown",
      "metadata": {
        "id": "04e8f920"
      },
      "source": [
        "### Here, we can observe some corelation between the 'Hours' and 'Percentage'"
      ],
      "id": "04e8f920"
    },
    {
      "cell_type": "code",
      "metadata": {
        "id": "420a7894",
        "colab": {
          "base_uri": "https://localhost:8080/",
          "height": 347
        },
        "outputId": "857acab3-0f80-4140-9c0a-1197c97c26d2"
      },
      "source": [
        "sns.regplot(x= student_data['Hours'],y=student_data['Scores'])\n",
        "plt.title('Regression plot')\n",
        "plt.xlabel('Hours studied')\n",
        "plt.ylabel('Percentage')\n",
        "plt.show()\n",
        "print(student_data.corr())"
      ],
      "id": "420a7894",
      "execution_count": null,
      "outputs": [
        {
          "output_type": "display_data",
          "data": {
            "image/png": "[encoded data removed]",
            "text/plain": [
              "<Figure size 432x288 with 1 Axes>"
            ]
          },
          "metadata": {
            "needs_background": "light"
          }
        },
        {
          "output_type": "stream",
          "name": "stdout",
          "text": [
            "           Hours    Scores\n",
            "Hours   1.000000  0.976191\n",
            "Scores  0.976191  1.000000\n"
          ]
        }
      ]
    },
    {
      "cell_type": "markdown",
      "metadata": {
        "id": "b92b3385"
      },
      "source": [
        "### From the regreesion plot we can confirm the values are positively correlated"
      ],
      "id": "b92b3385"
    },
    {
      "cell_type": "markdown",
      "metadata": {
        "id": "e1621bdb"
      },
      "source": [
        "# Preparing the Model"
      ],
      "id": "e1621bdb"
    },
    {
      "cell_type": "markdown",
      "metadata": {
        "id": "43ebefe8"
      },
      "source": [
        "## 1) Splitting the data"
      ],
      "id": "43ebefe8"
    },
    {
      "cell_type": "code",
      "metadata": {
        "id": "5e2a833f"
      },
      "source": [
        "X = np.asanyarray(student_data[['Hours']])\n",
        "Y = np.asanyarray(student_data[['Scores']])\n",
        "\n",
        "# using train_test_split function we make train and validation data\n",
        "train_X,val_x,train_Y,val_y= train_test_split(X,Y,test_size=0.2,random_state=2)"
      ],
      "id": "5e2a833f",
      "execution_count": null,
      "outputs": []
    },
    {
      "cell_type": "markdown",
      "metadata": {
        "id": "0db88faa"
      },
      "source": [
        "## 2) Fitting the data to model"
      ],
      "id": "0db88faa"
    },
    {
      "cell_type": "code",
      "metadata": {
        "id": "0d9a1761",
        "colab": {
          "base_uri": "https://localhost:8080/"
        },
        "outputId": "f40e7742-e2aa-48d1-bf40-16bff292a0de"
      },
      "source": [
        "regression_model = LinearRegression()\n",
        "regression_model.fit(train_X,train_Y)\n",
        "print(\"Model Training Completed...\")"
      ],
      "id": "0d9a1761",
      "execution_count": null,
      "outputs": [
        {
          "output_type": "stream",
          "name": "stdout",
          "text": [
            "Model Training Completed...\n"
          ]
        }
      ]
    },
    {
      "cell_type": "markdown",
      "metadata": {
        "id": "2e4b67b4"
      },
      "source": [
        "## Predicting the percentage of marks"
      ],
      "id": "2e4b67b4"
    },
    {
      "cell_type": "code",
      "metadata": {
        "id": "0c8f8e77",
        "colab": {
          "base_uri": "https://localhost:8080/",
          "height": 206
        },
        "outputId": "becb563c-5c0b-4e4f-cb87-8c0d13f90324"
      },
      "source": [
        "prediction_y = regression_model.predict(val_x)\n",
        "prediction = pd.DataFrame({'Hours': [i[0] for i in val_x], 'Predicted_marks': [j[0] for j in prediction_y]})\n",
        "prediction"
      ],
      "id": "0c8f8e77",
      "execution_count": null,
      "outputs": [
        {
          "output_type": "execute_result",
          "data": {
            "text/html": [
              "<div>\n",
              "<style scoped>\n",
              "    .dataframe tbody tr th:only-of-type {\n",
              "        vertical-align: middle;\n",
              "    }\n",
              "\n",
              "    .dataframe tbody tr th {\n",
              "        vertical-align: top;\n",
              "    }\n",
              "\n",
              "    .dataframe thead th {\n",
              "        text-align: right;\n",
              "    }\n",
              "</style>\n",
              "<table border=\"1\" class=\"dataframe\">\n",
              "  <thead>\n",
              "    <tr style=\"text-align: right;\">\n",
              "      <th></th>\n",
              "      <th>Hours</th>\n",
              "      <th>Predicted_marks</th>\n",
              "    </tr>\n",
              "  </thead>\n",
              "  <tbody>\n",
              "    <tr>\n",
              "      <th>0</th>\n",
              "      <td>1.1</td>\n",
              "      <td>12.442587</td>\n",
              "    </tr>\n",
              "    <tr>\n",
              "      <th>1</th>\n",
              "      <td>2.5</td>\n",
              "      <td>26.359448</td>\n",
              "    </tr>\n",
              "    <tr>\n",
              "      <th>2</th>\n",
              "      <td>1.9</td>\n",
              "      <td>20.395079</td>\n",
              "    </tr>\n",
              "    <tr>\n",
              "      <th>3</th>\n",
              "      <td>9.2</td>\n",
              "      <td>92.961570</td>\n",
              "    </tr>\n",
              "    <tr>\n",
              "      <th>4</th>\n",
              "      <td>6.9</td>\n",
              "      <td>70.098155</td>\n",
              "    </tr>\n",
              "  </tbody>\n",
              "</table>\n",
              "</div>"
            ],
            "text/plain": [
              "   Hours  Predicted_marks\n",
              "0    1.1        12.442587\n",
              "1    2.5        26.359448\n",
              "2    1.9        20.395079\n",
              "3    9.2        92.961570\n",
              "4    6.9        70.098155"
            ]
          },
          "metadata": {},
          "execution_count": 12
        }
      ]
    },
    {
      "cell_type": "markdown",
      "metadata": {
        "id": "30754574"
      },
      "source": [
        "## Predicted Marks vs Original Marks"
      ],
      "id": "30754574"
    },
    {
      "cell_type": "code",
      "metadata": {
        "id": "b5086c88",
        "colab": {
          "base_uri": "https://localhost:8080/",
          "height": 206
        },
        "outputId": "dd0b8900-7af3-4ed6-fa6c-1ba195064d00"
      },
      "source": [
        "score_comparision = pd.DataFrame({'original marks': [i[0] for i in val_y], 'predicted marks': [j[0] for j in prediction_y]})\n",
        "score_comparision"
      ],
      "id": "b5086c88",
      "execution_count": null,
      "outputs": [
        {
          "output_type": "execute_result",
          "data": {
            "text/html": [
              "<div>\n",
              "<style scoped>\n",
              "    .dataframe tbody tr th:only-of-type {\n",
              "        vertical-align: middle;\n",
              "    }\n",
              "\n",
              "    .dataframe tbody tr th {\n",
              "        vertical-align: top;\n",
              "    }\n",
              "\n",
              "    .dataframe thead th {\n",
              "        text-align: right;\n",
              "    }\n",
              "</style>\n",
              "<table border=\"1\" class=\"dataframe\">\n",
              "  <thead>\n",
              "    <tr style=\"text-align: right;\">\n",
              "      <th></th>\n",
              "      <th>original marks</th>\n",
              "      <th>predicted marks</th>\n",
              "    </tr>\n",
              "  </thead>\n",
              "  <tbody>\n",
              "    <tr>\n",
              "      <th>0</th>\n",
              "      <td>17</td>\n",
              "      <td>12.442587</td>\n",
              "    </tr>\n",
              "    <tr>\n",
              "      <th>1</th>\n",
              "      <td>21</td>\n",
              "      <td>26.359448</td>\n",
              "    </tr>\n",
              "    <tr>\n",
              "      <th>2</th>\n",
              "      <td>24</td>\n",
              "      <td>20.395079</td>\n",
              "    </tr>\n",
              "    <tr>\n",
              "      <th>3</th>\n",
              "      <td>88</td>\n",
              "      <td>92.961570</td>\n",
              "    </tr>\n",
              "    <tr>\n",
              "      <th>4</th>\n",
              "      <td>76</td>\n",
              "      <td>70.098155</td>\n",
              "    </tr>\n",
              "  </tbody>\n",
              "</table>\n",
              "</div>"
            ],
            "text/plain": [
              "   original marks  predicted marks\n",
              "0              17        12.442587\n",
              "1              21        26.359448\n",
              "2              24        20.395079\n",
              "3              88        92.961570\n",
              "4              76        70.098155"
            ]
          },
          "metadata": {},
          "execution_count": 13
        }
      ]
    },
    {
      "cell_type": "markdown",
      "metadata": {
        "id": "849a25a2"
      },
      "source": [
        "## Graphical comparision"
      ],
      "id": "849a25a2"
    },
    {
      "cell_type": "code",
      "metadata": {
        "id": "d7865d97",
        "colab": {
          "base_uri": "https://localhost:8080/",
          "height": 295
        },
        "outputId": "31781513-bc8f-4be0-bb21-a007c42e58d0"
      },
      "source": [
        "plt.scatter(x=val_x,y=val_y, color='blue')\n",
        "plt.plot(val_x,prediction_y, color='red')\n",
        "plt.title('original vs predicted')\n",
        "plt.xlabel('Hours studied')\n",
        "plt.ylabel('Percentage')\n",
        "plt.show()"
      ],
      "id": "d7865d97",
      "execution_count": null,
      "outputs": [
        {
          "output_type": "display_data",
          "data": {
            "image/png": "[encoded data removed]",
            "text/plain": [
              "<Figure size 432x288 with 1 Axes>"
            ]
          },
          "metadata": {
            "needs_background": "light"
          }
        }
      ]
    },
    {
      "cell_type": "code",
      "metadata": {
        "id": "31d68d85",
        "colab": {
          "base_uri": "https://localhost:8080/"
        },
        "outputId": "f2fdb98f-5a5e-4cc1-abcf-fca49e572183"
      },
      "source": [
        "print('Mean Absolute Error: ',mean_absolute_error(val_y,prediction_y))\n",
        "print('R2 Score: ', r2_score(val_y,prediction_y))"
      ],
      "id": "31d68d85",
      "execution_count": null,
      "outputs": [
        {
          "output_type": "stream",
          "name": "stdout",
          "text": [
            "Mean Absolute Error:  4.877039354964476\n",
            "R2 Score:  0.9735538080811826\n"
          ]
        }
      ]
    },
    {
      "cell_type": "markdown",
      "metadata": {
        "id": "96ca6058"
      },
      "source": [
        "### smaller the value of mean absolute error shows the chances of wrong prediction is less. Higher the r2 score, indicates the higher accuracy of model"
      ],
      "id": "96ca6058"
    },
    {
      "cell_type": "code",
      "metadata": {
        "id": "70c800de",
        "colab": {
          "base_uri": "https://localhost:8080/"
        },
        "outputId": "d02ee9fc-c93e-4eaa-d238-59ffdbb205aa"
      },
      "source": [
        "hours = 9.25\n",
        "predicted_score = regression_model.predict([[hours]])\n",
        "print('No.of Hours: ',hours)\n",
        "print('Predicted score: ',predicted_score[0][0])"
      ],
      "id": "70c800de",
      "execution_count": null,
      "outputs": [
        {
          "output_type": "stream",
          "name": "stdout",
          "text": [
            "No.of Hours:  9.25\n",
            "Predicted score:  93.45860055685799\n"
          ]
        }
      ]
    },
    {
      "cell_type": "markdown",
      "metadata": {
        "id": "82cff567"
      },
      "source": [
        "### As per the Regression model prediction if a student studies for 9.25 hours a day, he/she used to get a percentage of 93.45"
      ],
      "id": "82cff567"
    }
  ]
}